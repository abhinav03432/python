{
 "cells": [
  {
   "attachments": {},
   "cell_type": "markdown",
   "id": "edda9d03",
   "metadata": {},
   "source": [
    "## Abhinav.B_S5 CSE"
   ]
  },
  {
   "cell_type": "markdown",
   "id": "19728c12",
   "metadata": {},
   "source": [
    "# SECTION I : Beginner level questions"
   ]
  },
  {
   "cell_type": "markdown",
   "id": "fdd980bf",
   "metadata": {},
   "source": [
    "## 1. Write the output of the following\n",
    "     k=[‘a’,’b’,’c’,’d’,’e’] \n",
    "     print(k[-1:-7:-1])"
   ]
  },
  {
   "cell_type": "code",
   "execution_count": 1,
   "id": "0d7a7bb8",
   "metadata": {},
   "outputs": [
    {
     "name": "stdout",
     "output_type": "stream",
     "text": [
      "['e', 'd', 'c', 'b', 'a']\n"
     ]
    }
   ],
   "source": [
    "k=['a','b','c','d','e']\n",
    "print(k[-1:-7:-1])"
   ]
  },
  {
   "cell_type": "markdown",
   "id": "6084af60",
   "metadata": {},
   "source": [
    "## 2. Reverse a list using Python\n",
    "    list1 = [100, 200, 300, 400, 500] "
   ]
  },
  {
   "cell_type": "code",
   "execution_count": 2,
   "id": "009d1ca8",
   "metadata": {},
   "outputs": [
    {
     "name": "stdout",
     "output_type": "stream",
     "text": [
      "[500, 400, 300, 200, 100]\n"
     ]
    }
   ],
   "source": [
    "list1 = [100, 200, 300, 400, 500]\n",
    "list1.reverse()\n",
    "print(list1)  "
   ]
  },
  {
   "cell_type": "markdown",
   "id": "8b3f701d",
   "metadata": {},
   "source": [
    "## 3. Given two numbers, write a python code to find the maximum of these two numbers.\n",
    "    Sample input: a=2, b=4"
   ]
  },
  {
   "cell_type": "code",
   "execution_count": 3,
   "id": "9c4ceb01",
   "metadata": {},
   "outputs": [
    {
     "name": "stdout",
     "output_type": "stream",
     "text": [
      "maximum =  4\n"
     ]
    }
   ],
   "source": [
    "a = 2\n",
    "b = 4\n",
    "if (a > b):\n",
    "    print (\"maximum = \",a)\n",
    "else:\n",
    "    print (\"maximum = \",b)"
   ]
  },
  {
   "cell_type": "markdown",
   "id": "ba027046",
   "metadata": {},
   "source": [
    "# SECTION II: Intermediate level questions"
   ]
  },
  {
   "cell_type": "markdown",
   "id": "b51966d8",
   "metadata": {},
   "source": [
    "## 6. Write a python program to print the current year, month and day"
   ]
  },
  {
   "cell_type": "code",
   "execution_count": 4,
   "id": "96c1d771",
   "metadata": {},
   "outputs": [
    {
     "name": "stdout",
     "output_type": "stream",
     "text": [
      "Current date is 2022-12-11\n"
     ]
    }
   ],
   "source": [
    "from datetime import date\n",
    "today = date.today()\n",
    "print(\"Current date is\",today)\n"
   ]
  },
  {
   "cell_type": "markdown",
   "id": "3ff4a706",
   "metadata": {},
   "source": [
    "## 7. Write a Python program to construct the following pattern, using a nested for loop.\n",
    "    *\n",
    "    **\n",
    "    ***\n",
    "    ****\n",
    "    *****\n",
    "    ****\n",
    "    ***\n",
    "    **\n",
    "    *"
   ]
  },
  {
   "cell_type": "code",
   "execution_count": 5,
   "id": "d1fd5acd",
   "metadata": {},
   "outputs": [
    {
     "name": "stdout",
     "output_type": "stream",
     "text": [
      "*\n",
      "**\n",
      "***\n",
      "****\n",
      "*****\n",
      "****\n",
      "***\n",
      "**\n",
      "*\n"
     ]
    }
   ],
   "source": [
    "for i in range(1, 6):\n",
    "    for j in range(1, i+1):\n",
    "        print(\"*\", end=\"\")\n",
    "    print()\n",
    "\n",
    "for i in range(4, 0, -1):\n",
    "    for j in range(1, i+1):\n",
    "        print(\"*\", end=\"\")\n",
    "    print()\n"
   ]
  },
  {
   "cell_type": "markdown",
   "id": "e2eceff7",
   "metadata": {},
   "source": [
    "## 9. Display all duplicate items from a list given:\n",
    "    10, 20, 60, 30, 20, 40, 30, 60, 70, 80 "
   ]
  },
  {
   "cell_type": "code",
   "execution_count": 16,
   "id": "1ac8375a",
   "metadata": {},
   "outputs": [
    {
     "name": "stdout",
     "output_type": "stream",
     "text": [
      "20\n",
      "30\n",
      "60\n"
     ]
    }
   ],
   "source": [
    "list = [10, 20, 60, 30, 20, 40, 30, 60, 70, 80]\n",
    "duplicates = []\n",
    "for item in list:\n",
    "    if item in duplicates:\n",
    "        print(item)\n",
    "    else:\n",
    "        duplicates.append(item)\n"
   ]
  },
  {
   "cell_type": "markdown",
   "id": "cc571fb9",
   "metadata": {},
   "source": [
    "# SECTION III : Difficult level questions\n"
   ]
  },
  {
   "cell_type": "markdown",
   "id": "369bd590",
   "metadata": {},
   "source": [
    "## 11. Write a python program to print the numbers from a given number n till 0 using recursion"
   ]
  },
  {
   "cell_type": "code",
   "execution_count": 15,
   "id": "5c88ef55",
   "metadata": {},
   "outputs": [
    {
     "name": "stdout",
     "output_type": "stream",
     "text": [
      "10\n",
      "9\n",
      "8\n",
      "7\n",
      "6\n",
      "5\n",
      "4\n",
      "3\n",
      "2\n",
      "1\n",
      "0\n"
     ]
    }
   ],
   "source": [
    "def print_numbers(n):\n",
    "  if n == 0:\n",
    "    print(n)\n",
    "    return\n",
    "  print(n)\n",
    "  print_numbers(n - 1)\n",
    "num=10\n",
    "print_numbers(num)\n"
   ]
  },
  {
   "cell_type": "markdown",
   "id": "9abf55a8",
   "metadata": {},
   "source": [
    "## 12. Modify the element of a nested list inside the following list:\n",
    "    Sample input : list1 = [5, [10, 15, [20, 25, [30, 35], 40], 45], 50]\n",
    "    Change the element 35 to 3500"
   ]
  },
  {
   "cell_type": "code",
   "execution_count": 9,
   "id": "ce568119",
   "metadata": {},
   "outputs": [
    {
     "name": "stdout",
     "output_type": "stream",
     "text": [
      "[5, [10, 15, [20, 25, [30, 3500], 40], 45], 50]\n"
     ]
    }
   ],
   "source": [
    "list1 = [5, [10, 15, [20, 25, [30, 35], 40], 45], 50]\n",
    "pos = list1[1][2][2]\n",
    "del pos[1]\n",
    "pos.insert(1, 3500)\n",
    "print(list1)"
   ]
  },
  {
   "cell_type": "markdown",
   "id": "0a7d13b8",
   "metadata": {},
   "source": [
    "## 13. Write a while loop to display only alphabets from a string.\n",
    "    Hint: In this question, print only the letters from a string by\n",
    "    skipping all digits and special symbols"
   ]
  },
  {
   "cell_type": "code",
   "execution_count": 18,
   "id": "bfd23d3a",
   "metadata": {},
   "outputs": [
    {
     "name": "stdout",
     "output_type": "stream",
     "text": [
      "HelloWorld"
     ]
    }
   ],
   "source": [
    "string = \"Hello, World! 123\"\n",
    "i = 0\n",
    "while i < len(string):\n",
    "  if string[i].isalpha():\n",
    "    print(string[i], end=\"\")\n",
    "  i += 1"
   ]
  },
  {
   "cell_type": "code",
   "execution_count": null,
   "id": "3d533253",
   "metadata": {},
   "outputs": [],
   "source": []
  }
 ],
 "metadata": {
  "kernelspec": {
   "display_name": "Python 3 (ipykernel)",
   "language": "python",
   "name": "python3"
  },
  "language_info": {
   "codemirror_mode": {
    "name": "ipython",
    "version": 3
   },
   "file_extension": ".py",
   "mimetype": "text/x-python",
   "name": "python",
   "nbconvert_exporter": "python",
   "pygments_lexer": "ipython3",
   "version": "3.9.13"
  }
 },
 "nbformat": 4,
 "nbformat_minor": 5
}
